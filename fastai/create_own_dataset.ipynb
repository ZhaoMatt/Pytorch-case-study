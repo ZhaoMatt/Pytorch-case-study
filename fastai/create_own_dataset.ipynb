{
  "nbformat": 4,
  "nbformat_minor": 0,
  "metadata": {
    "colab": {
      "name": "create_own_dataset.ipynb",
      "version": "0.3.2",
      "provenance": []
    },
    "kernelspec": {
      "name": "python3",
      "display_name": "Python 3"
    },
    "accelerator": "GPU"
  },
  "cells": [
    {
      "metadata": {
        "id": "eGGgyAAMPN_j",
        "colab_type": "text"
      },
      "cell_type": "markdown",
      "source": [
        "* !curl -s https://course.fast.ai/setup/colab | bash\n",
        "* !nvidia-smi"
      ]
    },
    {
      "metadata": {
        "id": "_ZSL7L5BO7i0",
        "colab_type": "code",
        "colab": {}
      },
      "cell_type": "code",
      "source": [
        "from fastai.vision import *"
      ],
      "execution_count": 0,
      "outputs": []
    },
    {
      "metadata": {
        "id": "PZIyyhhURYsk",
        "colab_type": "text"
      },
      "cell_type": "markdown",
      "source": [
        "## Get a list of URLs"
      ]
    },
    {
      "metadata": {
        "id": "nCHwD_EFRgbR",
        "colab_type": "text"
      },
      "cell_type": "markdown",
      "source": [
        "### Search and scroll\n"
      ]
    },
    {
      "metadata": {
        "id": "jbzDA1CaP-vx",
        "colab_type": "text"
      },
      "cell_type": "markdown",
      "source": [
        "Go to [Google Images](http://images.google.com) and search for the images you are interested in. The more specific you are in your Google Search, the better the results and the less manual pruning you will have to do.\n",
        "\n",
        "Scroll down until you've seen all the images you want to download, or until you see a button that says 'Show more results'. All the images you scrolled past are now available to download. To get more, click on the button, and continue scrolling. The maximum number of images Google Images shows is 700.\n",
        "\n",
        "It is a good idea to put things you want to exclude into the search query, for instance if you are searching for the Eurasian wolf, \"canis lupus lupus\", it might be a good idea to exclude other variants:\n",
        "\n",
        "    \"canis lupus lupus\" -dog -arctos -familiaris -baileyi -occidentalis\n",
        "\n",
        "You can also limit your results to show only photos by clicking on Tools and selecting Photos from the Type dropdown."
      ]
    },
    {
      "metadata": {
        "id": "qdHpzlDCTT4B",
        "colab_type": "text"
      },
      "cell_type": "markdown",
      "source": [
        "### Download into file"
      ]
    },
    {
      "metadata": {
        "id": "SXfEFAOEP-vz",
        "colab_type": "text"
      },
      "cell_type": "markdown",
      "source": [
        "Now you must run some Javascript code in your browser which will save the URLs of all the images you want for you dataset.\n",
        "\n",
        "Press <kbd>Ctrl</kbd><kbd>Shift</kbd><kbd>J</kbd> in Windows/Linux and <kbd>Cmd</kbd><kbd>Opt</kbd><kbd>J</kbd> in Mac, and a small window the javascript 'Console' will appear. That is where you will paste the JavaScript commands.\n",
        "\n",
        "You will need to get the urls of each of the images. You can do this by running the following commands:\n",
        "\n",
        "```javascript\n",
        "urls = Array.from(document.querySelectorAll('.rg_di .rg_meta')).map(el=>JSON.parse(el.textContent).ou);\n",
        "window.open('data:text/csv;charset=utf-8,' + escape(urls.join('\\n')));\n",
        "```"
      ]
    },
    {
      "metadata": {
        "id": "CkiJeI7EUQjg",
        "colab_type": "text"
      },
      "cell_type": "markdown",
      "source": [
        "### Create directory and upload urls file into your server"
      ]
    },
    {
      "metadata": {
        "id": "2EO2YMqlQsrA",
        "colab_type": "code",
        "colab": {}
      },
      "cell_type": "code",
      "source": [
        ""
      ],
      "execution_count": 0,
      "outputs": []
    },
    {
      "metadata": {
        "id": "pYZecJynRdSL",
        "colab_type": "code",
        "colab": {}
      },
      "cell_type": "code",
      "source": [
        ""
      ],
      "execution_count": 0,
      "outputs": []
    },
    {
      "metadata": {
        "id": "mnPZsIknRmiU",
        "colab_type": "code",
        "colab": {}
      },
      "cell_type": "code",
      "source": [
        ""
      ],
      "execution_count": 0,
      "outputs": []
    }
  ]
}